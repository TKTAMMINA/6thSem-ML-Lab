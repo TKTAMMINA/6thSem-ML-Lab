{
  "nbformat": 4,
  "nbformat_minor": 0,
  "metadata": {
    "colab": {
      "provenance": []
    },
    "kernelspec": {
      "name": "python3",
      "display_name": "Python 3"
    },
    "language_info": {
      "name": "python"
    }
  },
  "cells": [
    {
      "cell_type": "code",
      "execution_count": null,
      "metadata": {
        "id": "esrZCpEzoNLj"
      },
      "outputs": [],
      "source": [
        "import pandas as pd\n",
        "import numpy as np\n",
        "from sklearn import linear_model\n",
        "import matplotlib.pyplot as plt"
      ]
    },
    {
      "cell_type": "markdown",
      "source": [
        "LR Housing area price\n"
      ],
      "metadata": {
        "id": "vpmnq6uysCt2"
      }
    },
    {
      "cell_type": "code",
      "source": [
        "df=pd.read_csv(\"/content/housing_area_price.csv\")"
      ],
      "metadata": {
        "id": "LTT8-_ygpCA_"
      },
      "execution_count": null,
      "outputs": []
    },
    {
      "cell_type": "code",
      "source": [
        "print(df)"
      ],
      "metadata": {
        "colab": {
          "base_uri": "https://localhost:8080/"
        },
        "id": "1c0MMP4xpTOn",
        "outputId": "196a4beb-0278-436e-d01d-14508eb0e574"
      },
      "execution_count": null,
      "outputs": [
        {
          "output_type": "stream",
          "name": "stdout",
          "text": [
            "   area   price\n",
            "0  2600  550000\n",
            "1  3000  565000\n",
            "2  3200  610000\n",
            "3  3600  680000\n",
            "4  4000  725000\n"
          ]
        }
      ]
    },
    {
      "cell_type": "code",
      "source": [
        "#Plotting\n",
        "plt.xlabel('area')\n",
        "plt.ylabel('price')\n",
        "plt.scatter(df.area,df.price,color='red',marker='+')"
      ],
      "metadata": {
        "colab": {
          "base_uri": "https://localhost:8080/",
          "height": 466
        },
        "id": "jydMtWivpZIO",
        "outputId": "d7e8f03b-1aee-4578-b73f-1e6e52b3f530"
      },
      "execution_count": null,
      "outputs": [
        {
          "output_type": "execute_result",
          "data": {
            "text/plain": [
              "<matplotlib.collections.PathCollection at 0x7e669fcea6d0>"
            ]
          },
          "metadata": {},
          "execution_count": 4
        },
        {
          "output_type": "display_data",
          "data": {
            "text/plain": [
              "<Figure size 640x480 with 1 Axes>"
            ],
            "image/png": "[encoded data removed]"
          },
          "metadata": {}
        }
      ]
    },
    {
      "cell_type": "code",
      "source": [
        "# Create linear regression object\n",
        "x_label=df.area\n",
        "y_label=df.price\n",
        "reg = linear_model.LinearRegression()\n",
        "reg.fit(x_label.values.reshape(-1,1),y_label)\n",
        "print(\"slope:\",reg.coef_)\n",
        "print(\"Intercept:\",reg.intercept_)"
      ],
      "metadata": {
        "colab": {
          "base_uri": "https://localhost:8080/"
        },
        "id": "RZnXic4SqDfe",
        "outputId": "5c76e09b-42b3-44ed-ef94-e9d12754dc16"
      },
      "execution_count": null,
      "outputs": [
        {
          "output_type": "stream",
          "name": "stdout",
          "text": [
            "slope: [135.78767123]\n",
            "Intercept: 180616.43835616432\n"
          ]
        }
      ]
    },
    {
      "cell_type": "code",
      "source": [
        "print(\"Predicting price for area 3300 units:\",reg.predict([[3300]]))\n",
        "print(\"Predicting price for area 5000 units:\",reg.predict([[5000]]))"
      ],
      "metadata": {
        "colab": {
          "base_uri": "https://localhost:8080/"
        },
        "id": "AC18D7U9qKbm",
        "outputId": "4ac91851-f4c1-4479-c99f-8922909f9e92"
      },
      "execution_count": null,
      "outputs": [
        {
          "output_type": "stream",
          "name": "stdout",
          "text": [
            "Predicting price for area 3300 units: [628715.75342466]\n",
            "Predicting price for area 5000 units: [859554.79452055]\n"
          ]
        }
      ]
    },
    {
      "cell_type": "markdown",
      "source": [
        "Multiple_LR Housing area price"
      ],
      "metadata": {
        "id": "Ye8GG4mTsUZ2"
      }
    },
    {
      "cell_type": "code",
      "source": [
        "df2=pd.read_csv(\"/content/homeprices_Multiple_LR.csv\")\n",
        "print(df2)"
      ],
      "metadata": {
        "colab": {
          "base_uri": "https://localhost:8080/"
        },
        "id": "jZNhhsBAryEO",
        "outputId": "67b81864-2f79-492d-d30d-92bfdb0494cb"
      },
      "execution_count": null,
      "outputs": [
        {
          "output_type": "stream",
          "name": "stdout",
          "text": [
            "   area  bedrooms  age   price\n",
            "0  2600       3.0   20  550000\n",
            "1  3000       4.0   15  565000\n",
            "2  3200       NaN   18  610000\n",
            "3  3600       3.0   30  595000\n",
            "4  4000       5.0    8  760000\n",
            "5  4100       6.0    8  810000\n"
          ]
        }
      ]
    },
    {
      "cell_type": "code",
      "source": [
        "df2.bedrooms.median()\n",
        "\n",
        "df2.bedrooms = df2.bedrooms.fillna(df2.bedrooms.median())\n",
        "print(df2)"
      ],
      "metadata": {
        "colab": {
          "base_uri": "https://localhost:8080/"
        },
        "id": "eF-PEdmDsyx2",
        "outputId": "e378464f-b705-443c-c156-6938a3b22638"
      },
      "execution_count": null,
      "outputs": [
        {
          "output_type": "stream",
          "name": "stdout",
          "text": [
            "   area  bedrooms  age   price\n",
            "0  2600       3.0   20  550000\n",
            "1  3000       4.0   15  565000\n",
            "2  3200       4.0   18  610000\n",
            "3  3600       3.0   30  595000\n",
            "4  4000       5.0    8  760000\n",
            "5  4100       6.0    8  810000\n"
          ]
        }
      ]
    },
    {
      "cell_type": "code",
      "source": [
        "# Create Multiple linear regression object\n",
        "x_label=df2.drop('price',axis='columns')\n",
        "y_label=df2.price\n",
        "reg = linear_model.LinearRegression()\n",
        "reg.fit(x_label,y_label)\n",
        "print(\"slope:\",reg.coef_)\n",
        "print(\"Intercept:\",reg.intercept_)"
      ],
      "metadata": {
        "colab": {
          "base_uri": "https://localhost:8080/"
        },
        "id": "aq7MDzFrtBiO",
        "outputId": "af38400e-9214-4e52-d4ed-924bc8316951"
      },
      "execution_count": null,
      "outputs": [
        {
          "output_type": "stream",
          "name": "stdout",
          "text": [
            "slope: [  112.06244194 23388.88007794 -3231.71790863]\n",
            "Intercept: 221323.00186540396\n"
          ]
        }
      ]
    },
    {
      "cell_type": "code",
      "source": [
        "print(\"Predicting price for area 3000 units with 3 bedrooms and 40 years age:\",reg.predict([[3000,3,40]]))"
      ],
      "metadata": {
        "colab": {
          "base_uri": "https://localhost:8080/"
        },
        "id": "rzf8ycRdtq4G",
        "outputId": "26d0545f-ccf1-4d97-e1b9-6e67c10eceb5"
      },
      "execution_count": null,
      "outputs": [
        {
          "output_type": "stream",
          "name": "stdout",
          "text": [
            "Predicting price for area 3000 units with 3 bedrooms and 40 years age: [498408.25158031]\n"
          ]
        }
      ]
    },
    {
      "cell_type": "markdown",
      "source": [
        "LR Canada per capita income\n"
      ],
      "metadata": {
        "id": "-UZ2HSO9vODu"
      }
    },
    {
      "cell_type": "code",
      "source": [
        "df3=pd.read_csv(\"/content/canada_per_capita_income.csv\")\n",
        "print(df3.head())"
      ],
      "metadata": {
        "colab": {
          "base_uri": "https://localhost:8080/"
        },
        "id": "sFiy5evCuOUu",
        "outputId": "2a29fd2f-76b8-4c13-d347-c3cb29df8a29"
      },
      "execution_count": null,
      "outputs": [
        {
          "output_type": "stream",
          "name": "stdout",
          "text": [
            "   year  per capita income (US$)\n",
            "0  1970              3399.299037\n",
            "1  1971              3768.297935\n",
            "2  1972              4251.175484\n",
            "3  1973              4804.463248\n",
            "4  1974              5576.514583\n"
          ]
        }
      ]
    },
    {
      "cell_type": "code",
      "source": [
        "df3.isnull().sum().sum()"
      ],
      "metadata": {
        "colab": {
          "base_uri": "https://localhost:8080/"
        },
        "id": "hHwxX7QxxE3u",
        "outputId": "7846992b-8533-4108-88eb-b147fe7cdb70"
      },
      "execution_count": null,
      "outputs": [
        {
          "output_type": "execute_result",
          "data": {
            "text/plain": [
              "0"
            ]
          },
          "metadata": {},
          "execution_count": 36
        }
      ]
    },
    {
      "cell_type": "code",
      "source": [
        "# Create linear regression object\n",
        "x_label=df3.year\n",
        "y_label=df3[\"per capita income (US$)\"]\n",
        "reg = linear_model.LinearRegression()\n",
        "reg.fit(x_label.values.reshape(-1,1),y_label)\n",
        "print(\"slope:\",reg.coef_)\n",
        "print(\"Intercept:\",reg.intercept_)"
      ],
      "metadata": {
        "colab": {
          "base_uri": "https://localhost:8080/"
        },
        "id": "5cNLuI0uvfge",
        "outputId": "6f589747-e998-4bfd-9a94-dcdc4e8992ad"
      },
      "execution_count": null,
      "outputs": [
        {
          "output_type": "stream",
          "name": "stdout",
          "text": [
            "slope: [828.46507522]\n",
            "Intercept: -1632210.7578554575\n"
          ]
        }
      ]
    },
    {
      "cell_type": "code",
      "source": [
        "print(\"the per capita income for canadian citizens in year 2020:\",reg.predict([[2020]]))"
      ],
      "metadata": {
        "colab": {
          "base_uri": "https://localhost:8080/"
        },
        "id": "v2Kjb4PowSIO",
        "outputId": "ba01b4a5-217b-4a5d-c415-9409c56f7f16"
      },
      "execution_count": null,
      "outputs": [
        {
          "output_type": "stream",
          "name": "stdout",
          "text": [
            "the per capita income for canadian citizens in year 2020: [41288.69409442]\n"
          ]
        }
      ]
    },
    {
      "cell_type": "markdown",
      "source": [
        "LR salary\n"
      ],
      "metadata": {
        "id": "Urv_mW_hxn4m"
      }
    },
    {
      "cell_type": "code",
      "source": [
        "df4=pd.read_csv(\"/content/salary.csv\")\n",
        "print(df4)"
      ],
      "metadata": {
        "colab": {
          "base_uri": "https://localhost:8080/"
        },
        "id": "06TRr3zMxbY2",
        "outputId": "618f66c4-1da9-4088-8163-a133d7f5dbbb"
      },
      "execution_count": null,
      "outputs": [
        {
          "output_type": "stream",
          "name": "stdout",
          "text": [
            "    YearsExperience  Salary\n",
            "0               1.1   39343\n",
            "1               1.3   46205\n",
            "2               1.5   37731\n",
            "3               2.0   43525\n",
            "4               2.2   39891\n",
            "5               2.9   56642\n",
            "6               3.0   60150\n",
            "7               3.2   54445\n",
            "8               3.2   64445\n",
            "9               3.7   57189\n",
            "10              3.9   63218\n",
            "11              4.0   55794\n",
            "12              4.0   56957\n",
            "13              4.1   57081\n",
            "14              NaN   61111\n",
            "15              4.9   67938\n",
            "16              5.1   66029\n",
            "17              5.3   83088\n",
            "18              5.9   81363\n",
            "19              6.0   93940\n",
            "20              6.8   91738\n",
            "21              7.1   98273\n",
            "22              7.9  101302\n",
            "23              8.2  113812\n",
            "24              8.7  109431\n",
            "25              9.0  105582\n",
            "26              NaN  116969\n",
            "27              9.6  112635\n",
            "28             10.3  122391\n",
            "29             10.5  121872\n"
          ]
        }
      ]
    },
    {
      "cell_type": "code",
      "source": [
        "df4.isnull().sum()"
      ],
      "metadata": {
        "colab": {
          "base_uri": "https://localhost:8080/",
          "height": 147
        },
        "id": "GfE585O8x3rG",
        "outputId": "5d9bd1a2-e338-4cc0-e2d4-175661945094"
      },
      "execution_count": null,
      "outputs": [
        {
          "output_type": "execute_result",
          "data": {
            "text/plain": [
              "YearsExperience    2\n",
              "Salary             0\n",
              "dtype: int64"
            ],
            "text/html": [
              "<div>\n",
              "<style scoped>\n",
              "    .dataframe tbody tr th:only-of-type {\n",
              "        vertical-align: middle;\n",
              "    }\n",
              "\n",
              "    .dataframe tbody tr th {\n",
              "        vertical-align: top;\n",
              "    }\n",
              "\n",
              "    .dataframe thead th {\n",
              "        text-align: right;\n",
              "    }\n",
              "</style>\n",
              "<table border=\"1\" class=\"dataframe\">\n",
              "  <thead>\n",
              "    <tr style=\"text-align: right;\">\n",
              "      <th></th>\n",
              "      <th>0</th>\n",
              "    </tr>\n",
              "  </thead>\n",
              "  <tbody>\n",
              "    <tr>\n",
              "      <th>YearsExperience</th>\n",
              "      <td>2</td>\n",
              "    </tr>\n",
              "    <tr>\n",
              "      <th>Salary</th>\n",
              "      <td>0</td>\n",
              "    </tr>\n",
              "  </tbody>\n",
              "</table>\n",
              "</div><br><label><b>dtype:</b> int64</label>"
            ]
          },
          "metadata": {},
          "execution_count": 41
        }
      ]
    },
    {
      "cell_type": "code",
      "source": [
        "median=df4.YearsExperience.median()\n",
        "print(median)\n",
        "\n",
        "df4.YearsExperience = df4.YearsExperience.fillna(median)\n",
        "print(df4)"
      ],
      "metadata": {
        "colab": {
          "base_uri": "https://localhost:8080/"
        },
        "id": "H0S3VhW8x8w1",
        "outputId": "4e14abf1-7744-4c5a-b638-6a66216e45f9"
      },
      "execution_count": null,
      "outputs": [
        {
          "output_type": "stream",
          "name": "stdout",
          "text": [
            "4.5\n",
            "    YearsExperience  Salary\n",
            "0               1.1   39343\n",
            "1               1.3   46205\n",
            "2               1.5   37731\n",
            "3               2.0   43525\n",
            "4               2.2   39891\n",
            "5               2.9   56642\n",
            "6               3.0   60150\n",
            "7               3.2   54445\n",
            "8               3.2   64445\n",
            "9               3.7   57189\n",
            "10              3.9   63218\n",
            "11              4.0   55794\n",
            "12              4.0   56957\n",
            "13              4.1   57081\n",
            "14              4.5   61111\n",
            "15              4.9   67938\n",
            "16              5.1   66029\n",
            "17              5.3   83088\n",
            "18              5.9   81363\n",
            "19              6.0   93940\n",
            "20              6.8   91738\n",
            "21              7.1   98273\n",
            "22              7.9  101302\n",
            "23              8.2  113812\n",
            "24              8.7  109431\n",
            "25              9.0  105582\n",
            "26              4.5  116969\n",
            "27              9.6  112635\n",
            "28             10.3  122391\n",
            "29             10.5  121872\n"
          ]
        }
      ]
    },
    {
      "cell_type": "code",
      "source": [
        "# Create linear regression object\n",
        "x_label=df4.YearsExperience\n",
        "y_label=df4.Salary\n",
        "reg = linear_model.LinearRegression()\n",
        "reg.fit(x_label.values.reshape(-1,1),y_label)\n",
        "print(\"slope:\",reg.coef_)\n",
        "print(\"Intercept:\",reg.intercept_)"
      ],
      "metadata": {
        "colab": {
          "base_uri": "https://localhost:8080/"
        },
        "id": "vSNSiQ7czHsG",
        "outputId": "0cb173f0-8f82-42b2-8570-8ff278facb1b"
      },
      "execution_count": null,
      "outputs": [
        {
          "output_type": "stream",
          "name": "stdout",
          "text": [
            "slope: [9275.93010112]\n",
            "Intercept: 28262.879746248997\n"
          ]
        }
      ]
    },
    {
      "cell_type": "code",
      "source": [
        "print(\"the salary of employee with 12 years of exprience:\",reg.predict([[12]]))"
      ],
      "metadata": {
        "colab": {
          "base_uri": "https://localhost:8080/"
        },
        "id": "NTfdbDlLyt9G",
        "outputId": "08041849-4887-4e5b-db15-f7d01c922ab1"
      },
      "execution_count": null,
      "outputs": [
        {
          "output_type": "stream",
          "name": "stdout",
          "text": [
            "the salary of employee with 12 years of exprience: [139574.04095966]\n"
          ]
        }
      ]
    },
    {
      "cell_type": "markdown",
      "source": [
        "Multiple LR Hiring"
      ],
      "metadata": {
        "id": "6ugVOrmTzbQG"
      }
    },
    {
      "cell_type": "code",
      "source": [
        "df5=pd.read_csv(\"/content/hiring.csv\")\n",
        "print(df5)"
      ],
      "metadata": {
        "colab": {
          "base_uri": "https://localhost:8080/"
        },
        "id": "zpOztEO1zUCV",
        "outputId": "dcaf2853-a97e-4dd7-ff3f-20e8bf80df39"
      },
      "execution_count": null,
      "outputs": [
        {
          "output_type": "stream",
          "name": "stdout",
          "text": [
            "  experience  test_score(out of 10)  interview_score(out of 10)  salary($)\n",
            "0        NaN                    8.0                           9      50000\n",
            "1        NaN                    8.0                           6      45000\n",
            "2       five                    6.0                           7      60000\n",
            "3        two                   10.0                          10      65000\n",
            "4      seven                    9.0                           6      70000\n",
            "5      three                    7.0                          10      62000\n",
            "6        ten                    NaN                           7      72000\n",
            "7     eleven                    7.0                           8      80000\n"
          ]
        }
      ]
    },
    {
      "cell_type": "code",
      "source": [
        "df5.isnull().sum()"
      ],
      "metadata": {
        "colab": {
          "base_uri": "https://localhost:8080/",
          "height": 210
        },
        "id": "kLDS2yRgziht",
        "outputId": "3425a80b-2670-4476-9794-6b635777927d"
      },
      "execution_count": null,
      "outputs": [
        {
          "output_type": "execute_result",
          "data": {
            "text/plain": [
              "experience                    2\n",
              "test_score(out of 10)         1\n",
              "interview_score(out of 10)    0\n",
              "salary($)                     0\n",
              "dtype: int64"
            ],
            "text/html": [
              "<div>\n",
              "<style scoped>\n",
              "    .dataframe tbody tr th:only-of-type {\n",
              "        vertical-align: middle;\n",
              "    }\n",
              "\n",
              "    .dataframe tbody tr th {\n",
              "        vertical-align: top;\n",
              "    }\n",
              "\n",
              "    .dataframe thead th {\n",
              "        text-align: right;\n",
              "    }\n",
              "</style>\n",
              "<table border=\"1\" class=\"dataframe\">\n",
              "  <thead>\n",
              "    <tr style=\"text-align: right;\">\n",
              "      <th></th>\n",
              "      <th>0</th>\n",
              "    </tr>\n",
              "  </thead>\n",
              "  <tbody>\n",
              "    <tr>\n",
              "      <th>experience</th>\n",
              "      <td>2</td>\n",
              "    </tr>\n",
              "    <tr>\n",
              "      <th>test_score(out of 10)</th>\n",
              "      <td>1</td>\n",
              "    </tr>\n",
              "    <tr>\n",
              "      <th>interview_score(out of 10)</th>\n",
              "      <td>0</td>\n",
              "    </tr>\n",
              "    <tr>\n",
              "      <th>salary($)</th>\n",
              "      <td>0</td>\n",
              "    </tr>\n",
              "  </tbody>\n",
              "</table>\n",
              "</div><br><label><b>dtype:</b> int64</label>"
            ]
          },
          "metadata": {},
          "execution_count": 63
        }
      ]
    },
    {
      "cell_type": "code",
      "source": [
        "number_map = {\n",
        "    'five': 5,\n",
        "    'two': 2,\n",
        "    'seven': 7,\n",
        "    'three': 3,\n",
        "    'ten': 10,\n",
        "    'eleven': 11\n",
        "}\n",
        "df5.experience = df5.experience.map(number_map)\n",
        "print(df5)"
      ],
      "metadata": {
        "colab": {
          "base_uri": "https://localhost:8080/"
        },
        "id": "qFHqdCoX0_bG",
        "outputId": "44e311cf-507f-4239-c6ca-6bb0fcad6aa4"
      },
      "execution_count": null,
      "outputs": [
        {
          "output_type": "stream",
          "name": "stdout",
          "text": [
            "   experience  test_score(out of 10)  interview_score(out of 10)  salary($)\n",
            "0         NaN                    8.0                           9      50000\n",
            "1         NaN                    8.0                           6      45000\n",
            "2         5.0                    6.0                           7      60000\n",
            "3         2.0                   10.0                          10      65000\n",
            "4         7.0                    9.0                           6      70000\n",
            "5         3.0                    7.0                          10      62000\n",
            "6        10.0                    NaN                           7      72000\n",
            "7        11.0                    7.0                           8      80000\n"
          ]
        }
      ]
    },
    {
      "cell_type": "code",
      "source": [],
      "metadata": {
        "id": "EeS_5AfM5Std"
      },
      "execution_count": null,
      "outputs": []
    },
    {
      "cell_type": "code",
      "source": [
        "medianExp=df5.experience.median()\n",
        "print(medianExp)\n",
        "medianTest=df5[\"test_score(out of 10)\"].median()\n",
        "print(medianTest)\n",
        "\n",
        "df5.experience = df5.experience.fillna(medianExp)\n",
        "df5[\"test_score(out of 10)\"] = df5[\"test_score(out of 10)\"].fillna(medianTest)\n",
        "print(df5)"
      ],
      "metadata": {
        "colab": {
          "base_uri": "https://localhost:8080/"
        },
        "id": "PDe0iT63zoOl",
        "outputId": "fd540ec7-896d-40f7-96f3-ead8efff2912"
      },
      "execution_count": null,
      "outputs": [
        {
          "output_type": "stream",
          "name": "stdout",
          "text": [
            "6.0\n",
            "8.0\n",
            "   experience  test_score(out of 10)  interview_score(out of 10)  salary($)\n",
            "0         6.0                    8.0                           9      50000\n",
            "1         6.0                    8.0                           6      45000\n",
            "2         5.0                    6.0                           7      60000\n",
            "3         2.0                   10.0                          10      65000\n",
            "4         7.0                    9.0                           6      70000\n",
            "5         3.0                    7.0                          10      62000\n",
            "6        10.0                    8.0                           7      72000\n",
            "7        11.0                    7.0                           8      80000\n"
          ]
        }
      ]
    },
    {
      "cell_type": "code",
      "source": [
        "# Create Multiple linear regression object\n",
        "x_label=df5.drop('salary($)',axis='columns')\n",
        "y_label=df5[\"salary($)\"]\n",
        "reg = linear_model.LinearRegression()\n",
        "reg.fit(x_label,y_label)\n",
        "print(\"slope:\",reg.coef_)\n",
        "print(\"Intercept:\",reg.intercept_)"
      ],
      "metadata": {
        "colab": {
          "base_uri": "https://localhost:8080/"
        },
        "id": "H3DsKQV10WyF",
        "outputId": "f4b80082-cf86-456c-c7ee-10cd3a3ab094"
      },
      "execution_count": null,
      "outputs": [
        {
          "output_type": "stream",
          "name": "stdout",
          "text": [
            "slope: [2813.00813008 1333.33333333 2926.82926829]\n",
            "Intercept: 11869.91869918695\n"
          ]
        }
      ]
    },
    {
      "cell_type": "code",
      "source": [
        "X_new=pd.DataFrame([[2, 9, 6]], columns=['experience','test_score(out of 10)','interview_score(out of 10)'])\n",
        "prediction = reg.predict(X_new)\n",
        "\n",
        "print(\"the salary of employee with 2 years of exprience,9 test score and 6 interview score:\",prediction)"
      ],
      "metadata": {
        "colab": {
          "base_uri": "https://localhost:8080/"
        },
        "id": "rNDzuxwM2Pul",
        "outputId": "91b39ce5-fe37-4403-9e74-a7e3dbffef6b"
      },
      "execution_count": null,
      "outputs": [
        {
          "output_type": "stream",
          "name": "stdout",
          "text": [
            "the salary of employee with 2 years of exprience,9 test score and 6 interview score: [47056.91056911]\n"
          ]
        }
      ]
    },
    {
      "cell_type": "code",
      "source": [
        "X_new=pd.DataFrame([[12, 10, 10]], columns=['experience','test_score(out of 10)','interview_score(out of 10)'])\n",
        "prediction = reg.predict(X_new)\n",
        "\n",
        "print(\"the salary of employee with 12 years of exprience,10 test score and 10 interview score:\",prediction)"
      ],
      "metadata": {
        "colab": {
          "base_uri": "https://localhost:8080/"
        },
        "id": "jChm0_Dl5-5V",
        "outputId": "a528b9c5-e733-465b-e82a-728a18d958ca"
      },
      "execution_count": null,
      "outputs": [
        {
          "output_type": "stream",
          "name": "stdout",
          "text": [
            "the salary of employee with 12 years of exprience,10 test score and 10 interview score: [88227.64227642]\n"
          ]
        }
      ]
    },
    {
      "cell_type": "markdown",
      "source": [
        "Predict profit for companies"
      ],
      "metadata": {
        "id": "0aVwKxzW5xaV"
      }
    },
    {
      "cell_type": "code",
      "source": [
        "df6=pd.read_csv(\"/content/1000_Companies.csv\")\n",
        "print(df6)"
      ],
      "metadata": {
        "colab": {
          "base_uri": "https://localhost:8080/"
        },
        "id": "tKwZCkFZ2-C-",
        "outputId": "3eafc817-7e25-4e25-89d4-059db53019fc"
      },
      "execution_count": null,
      "outputs": [
        {
          "output_type": "stream",
          "name": "stdout",
          "text": [
            "     R&D Spend  Administration  Marketing Spend       State        Profit\n",
            "0    165349.20      136897.800      471784.1000    New York  192261.83000\n",
            "1    162597.70      151377.590      443898.5300  California  191792.06000\n",
            "2    153441.51      101145.550      407934.5400     Florida  191050.39000\n",
            "3    144372.41      118671.850      383199.6200    New York  182901.99000\n",
            "4    142107.34       91391.770      366168.4200     Florida  166187.94000\n",
            "..         ...             ...              ...         ...           ...\n",
            "995   54135.00      118451.999      173232.6695  California   95279.96251\n",
            "996  134970.00      130390.080      329204.0228  California  164336.60550\n",
            "997  100275.47      241926.310      227142.8200  California  413956.48000\n",
            "998  128456.23      321652.140      281692.3200  California  333962.19000\n",
            "999  161181.72      270939.860      295442.1700    New York  476485.43000\n",
            "\n",
            "[1000 rows x 5 columns]\n"
          ]
        }
      ]
    },
    {
      "cell_type": "code",
      "source": [
        "df6.isnull().sum().sum()"
      ],
      "metadata": {
        "colab": {
          "base_uri": "https://localhost:8080/"
        },
        "id": "YRsRIwg16JEt",
        "outputId": "4e544024-7e19-4052-d34e-77a8dc41975d"
      },
      "execution_count": null,
      "outputs": [
        {
          "output_type": "execute_result",
          "data": {
            "text/plain": [
              "0"
            ]
          },
          "metadata": {},
          "execution_count": 77
        }
      ]
    },
    {
      "cell_type": "code",
      "source": [
        "# Ensure 'State' column exists before applying OneHotEncoder\n",
        "print(df6.columns)  # Print columns to check if 'State' exists\n",
        "# If 'State' is not present, check the original data or previous steps\n",
        "# If the column is present, verify the name (case-sensitive)\n",
        "from sklearn.preprocessing import OneHotEncoder\n",
        "ohe = OneHotEncoder(sparse_output=False, handle_unknown='ignore')\n",
        "state_encoded = ohe.fit_transform(df6[['State']])  # Assuming 'State' column exists\n",
        "state_encoded_df = pd.DataFrame(state_encoded, columns=ohe.get_feature_names_out(['State']))\n",
        "df6 = pd.concat([df6, state_encoded_df], axis=1).drop(columns=['State'])\n",
        "print(df6)\n",
        "reg = linear_model.LinearRegression()\n",
        "reg.fit(df6.drop('Profit',axis='columns'),df6.Profit)\n",
        "print(reg.coef_)\n",
        "print(reg.intercept_)\n",
        "\n",
        "reg.predict([[91694.48, 515841.3, 11931.24,0,1,0]])\n"
      ],
      "metadata": {
        "colab": {
          "base_uri": "https://localhost:8080/"
        },
        "id": "ax3BY85E6T2k",
        "outputId": "dcb6ce71-5e50-4eca-f259-322a4bc686e5"
      },
      "execution_count": null,
      "outputs": [
        {
          "output_type": "stream",
          "name": "stdout",
          "text": [
            "Index(['R&D Spend', 'Administration', 'Marketing Spend', 'State', 'Profit'], dtype='object')\n",
            "     R&D Spend  Administration  Marketing Spend        Profit  \\\n",
            "0    165349.20      136897.800      471784.1000  192261.83000   \n",
            "1    162597.70      151377.590      443898.5300  191792.06000   \n",
            "2    153441.51      101145.550      407934.5400  191050.39000   \n",
            "3    144372.41      118671.850      383199.6200  182901.99000   \n",
            "4    142107.34       91391.770      366168.4200  166187.94000   \n",
            "..         ...             ...              ...           ...   \n",
            "995   54135.00      118451.999      173232.6695   95279.96251   \n",
            "996  134970.00      130390.080      329204.0228  164336.60550   \n",
            "997  100275.47      241926.310      227142.8200  413956.48000   \n",
            "998  128456.23      321652.140      281692.3200  333962.19000   \n",
            "999  161181.72      270939.860      295442.1700  476485.43000   \n",
            "\n",
            "     State_California  State_Florida  State_New York  \n",
            "0                 0.0            0.0             1.0  \n",
            "1                 1.0            0.0             0.0  \n",
            "2                 0.0            1.0             0.0  \n",
            "3                 0.0            0.0             1.0  \n",
            "4                 0.0            1.0             0.0  \n",
            "..                ...            ...             ...  \n",
            "995               1.0            0.0             0.0  \n",
            "996               1.0            0.0             0.0  \n",
            "997               1.0            0.0             0.0  \n",
            "998               1.0            0.0             0.0  \n",
            "999               0.0            0.0             1.0  \n",
            "\n",
            "[1000 rows x 7 columns]\n",
            "[ 5.53149346e-01  1.02624663e+00  8.10861610e-02  1.16208642e+02\n",
            " -3.30144893e+02  2.13936251e+02]\n",
            "-70167.45814579468\n"
          ]
        },
        {
          "output_type": "stream",
          "name": "stderr",
          "text": [
            "/usr/local/lib/python3.11/dist-packages/sklearn/utils/validation.py:2739: UserWarning: X does not have valid feature names, but LinearRegression was fitted with feature names\n",
            "  warnings.warn(\n"
          ]
        },
        {
          "output_type": "execute_result",
          "data": {
            "text/plain": [
              "array([510570.99261083])"
            ]
          },
          "metadata": {},
          "execution_count": 78
        }
      ]
    },
    {
      "cell_type": "code",
      "source": [],
      "metadata": {
        "id": "CVrss6M-7JRN"
      },
      "execution_count": null,
      "outputs": []
    }
  ]
}